{
 "cells": [
  {
   "cell_type": "markdown",
   "id": "7ccb4fb5",
   "metadata": {},
   "source": [
    "# Desafío Evaluado"
   ]
  },
  {
   "cell_type": "markdown",
   "id": "82d773e0",
   "metadata": {},
   "source": [
    "Pregunta 1: Generar un array ficticio con NumPy."
   ]
  },
  {
   "cell_type": "code",
   "execution_count": 5,
   "id": "3b0827bc",
   "metadata": {},
   "outputs": [],
   "source": [
    "#importe de librerías\n",
    "import numpy as np\n",
    "import pandas as pn"
   ]
  },
  {
   "cell_type": "code",
   "execution_count": 26,
   "id": "e7da3ae6",
   "metadata": {},
   "outputs": [
    {
     "name": "stdout",
     "output_type": "stream",
     "text": [
      "[ 1  2  3  4  5  6  7  8  9 10 11 12 13 14 15 16 17 18 19 20 21 22 23 24\n",
      " 25 26 27 28 29 30 31 32 33 34 35 36 37 38 39 40 41 42 43 44 45 46 47 48\n",
      " 49 50]\n"
     ]
    }
   ],
   "source": [
    "array1 = np.linspace(1, 50, dtype = \"int\")\n",
    "print(array1)"
   ]
  },
  {
   "cell_type": "code",
   "execution_count": 32,
   "id": "4b915fce",
   "metadata": {},
   "outputs": [
    {
     "name": "stdout",
     "output_type": "stream",
     "text": [
      "[ 50  51  52  53  54  55  56  57  58  59  60  61  62  63  64  65  66  67\n",
      "  68  69  70  71  72  73  74  75  76  77  78  79  80  81  82  83  84  85\n",
      "  86  87  88  89  90  91  92  93  94  95  96  97  98  99 100 101 102 103\n",
      " 104 105 106 107 108 109 110 111 112 113 114 115 116 117 118 119 120 121\n",
      " 122 123 124 125 126 127 128 129 130 131 132 133 134 135 136 137 138 139\n",
      " 140 141 142 143 144 145 146 147 148 150]\n"
     ]
    }
   ],
   "source": [
    "array2 = np.linspace(50, 150, 100, dtype = \"int\")\n",
    "print(array2)"
   ]
  },
  {
   "cell_type": "markdown",
   "id": "66ea22bd",
   "metadata": {},
   "source": [
    "Pregunta 2: Ejecuta un loop que devuelva si el número en el primer array es par o impar"
   ]
  },
  {
   "cell_type": "code",
   "execution_count": 27,
   "id": "39c03eec",
   "metadata": {},
   "outputs": [
    {
     "name": "stdout",
     "output_type": "stream",
     "text": [
      "[2, 4, 6, 8, 10, 12, 14, 16, 18, 20, 22, 24, 26, 28, 30, 32, 34, 36, 38, 40, 42, 44, 46, 48, 50]\n",
      "[1, 3, 5, 7, 9, 11, 13, 15, 17, 19, 21, 23, 25, 27, 29, 31, 33, 35, 37, 39, 41, 43, 45, 47, 49]\n"
     ]
    }
   ],
   "source": [
    "pares = []\n",
    "impares = []\n",
    "\n",
    "for i in array1:\n",
    "    if i%2 == 0:\n",
    "        pares.append(i)\n",
    "    else:\n",
    "        impares.append(i)\n",
    "print(pares)\n",
    "print(impares)"
   ]
  },
  {
   "cell_type": "markdown",
   "id": "f81f705a",
   "metadata": {},
   "source": [
    "Pregunta 3: Genere un loop con el segundo array que cuente las siguientes condiciones:"
   ]
  },
  {
   "cell_type": "markdown",
   "id": "a17b83d0",
   "metadata": {},
   "source": [
    "1) Si el número es divisible por 2 o 3:\n",
    "2) Si el número es divisible por 2 y 3:\n",
    "3) Si el número es divisible por 3 pero no por 2:\n",
    "4) Si el número no es divisible por 2 ni 3:"
   ]
  },
  {
   "cell_type": "code",
   "execution_count": 29,
   "id": "08974c72",
   "metadata": {},
   "outputs": [],
   "source": [
    "divisible_por_2_o_3 = []\n",
    "\n",
    "divisible_por_2_y_3 = []\n",
    "\n",
    "divisible_por_3 = []\n",
    "\n",
    "ninguno =[]"
   ]
  },
  {
   "cell_type": "code",
   "execution_count": 33,
   "id": "223d9c41",
   "metadata": {},
   "outputs": [],
   "source": [
    "for i in array2:\n",
    "    if i % 2 == 0 or i % 3 == 0: \n",
    "        divisible_por_2_o_3.append(i)\n",
    "    \n",
    "    if i % 2 == 0 and i % 3 == 0:\n",
    "        divisible_por_2_y_3.append(i)\n",
    "    \n",
    "    if i % 3 == 0 and i % 2 != 0:\n",
    "        divisible_por_3.append(i)\n",
    "    \n",
    "    if i % 3 != 0 and i % 2 != 0:\n",
    "        ninguno.append(i)"
   ]
  },
  {
   "cell_type": "code",
   "execution_count": 34,
   "id": "76018021",
   "metadata": {},
   "outputs": [
    {
     "name": "stdout",
     "output_type": "stream",
     "text": [
      "[50, 51, 52, 54, 56, 57, 58, 60, 62, 63, 64, 66, 68, 69, 70, 72, 74, 75, 76, 78, 80, 81, 82, 84, 86, 87, 88, 90, 92, 93, 94, 96, 98, 99, 100, 102, 104, 105, 106, 108, 110, 111, 112, 114, 116, 117, 118, 120, 122, 123, 124, 126, 128, 129, 130, 132, 134, 135, 136, 138, 140, 141, 142, 144, 146, 147, 148, 150]\n",
      "[54, 60, 66, 72, 78, 84, 90, 96, 102, 108, 114, 120, 126, 132, 138, 144, 150]\n",
      "[51, 57, 63, 69, 75, 81, 87, 93, 99, 105, 111, 117, 123, 129, 135, 141, 147]\n",
      "[53, 55, 59, 61, 65, 67, 71, 73, 77, 79, 83, 85, 89, 91, 95, 97, 101, 103, 107, 109, 113, 115, 119, 121, 125, 127, 131, 133, 137, 139, 143, 145]\n"
     ]
    }
   ],
   "source": [
    "print (divisible_por_2_o_3)\n",
    "print (divisible_por_2_y_3)\n",
    "print (divisible_por_3)\n",
    "print (ninguno)"
   ]
  },
  {
   "cell_type": "markdown",
   "id": "0eb533a0",
   "metadata": {},
   "source": [
    "Pregunta 4: Corrección de errores"
   ]
  },
  {
   "cell_type": "code",
   "execution_count": null,
   "id": "55cf721f",
   "metadata": {},
   "outputs": [],
   "source": [
    "#for i in range(100):\n",
    "#print(I**2)\n",
    "# El error es que la 'I' no está definida."
   ]
  },
  {
   "cell_type": "markdown",
   "id": "57e9ff75",
   "metadata": {},
   "source": [
    "Pregunta 5: Utilizando la misma base flights.csv debes hacer un loop y clasificar los meses con una cantidad de pasajeros menor a la media. Para ello:"
   ]
  },
  {
   "cell_type": "code",
   "execution_count": 36,
   "id": "5ea5148d",
   "metadata": {},
   "outputs": [],
   "source": [
    "import pandas as pd"
   ]
  },
  {
   "cell_type": "code",
   "execution_count": 37,
   "id": "1763a28d",
   "metadata": {},
   "outputs": [],
   "source": [
    "df = pd.read_csv('flights.csv')\n",
    "df['underperforming'] = 0\n",
    "\n",
    "for i in df.index:\n",
    "    if df.at[i, 'passengers'] < df.passengers. mean():\n",
    "        df.at[i,'underperforming'] = 1\n",
    "else:\n",
    "    df.at[i,'underperforming'] = 0"
   ]
  },
  {
   "cell_type": "code",
   "execution_count": 38,
   "id": "ad74c53b",
   "metadata": {},
   "outputs": [
    {
     "data": {
      "text/plain": [
       "280.2986111111111"
      ]
     },
     "execution_count": 38,
     "metadata": {},
     "output_type": "execute_result"
    }
   ],
   "source": [
    "df.passengers. mean()"
   ]
  },
  {
   "cell_type": "code",
   "execution_count": 39,
   "id": "bedd6f07",
   "metadata": {},
   "outputs": [
    {
     "data": {
      "text/html": [
       "<div>\n",
       "<style scoped>\n",
       "    .dataframe tbody tr th:only-of-type {\n",
       "        vertical-align: middle;\n",
       "    }\n",
       "\n",
       "    .dataframe tbody tr th {\n",
       "        vertical-align: top;\n",
       "    }\n",
       "\n",
       "    .dataframe thead th {\n",
       "        text-align: right;\n",
       "    }\n",
       "</style>\n",
       "<table border=\"1\" class=\"dataframe\">\n",
       "  <thead>\n",
       "    <tr style=\"text-align: right;\">\n",
       "      <th></th>\n",
       "      <th>year</th>\n",
       "      <th>month</th>\n",
       "      <th>passengers</th>\n",
       "      <th>underperforming</th>\n",
       "    </tr>\n",
       "  </thead>\n",
       "  <tbody>\n",
       "    <tr>\n",
       "      <th>0</th>\n",
       "      <td>1949</td>\n",
       "      <td>January</td>\n",
       "      <td>112</td>\n",
       "      <td>1</td>\n",
       "    </tr>\n",
       "    <tr>\n",
       "      <th>1</th>\n",
       "      <td>1949</td>\n",
       "      <td>February</td>\n",
       "      <td>118</td>\n",
       "      <td>1</td>\n",
       "    </tr>\n",
       "    <tr>\n",
       "      <th>2</th>\n",
       "      <td>1949</td>\n",
       "      <td>March</td>\n",
       "      <td>132</td>\n",
       "      <td>1</td>\n",
       "    </tr>\n",
       "    <tr>\n",
       "      <th>3</th>\n",
       "      <td>1949</td>\n",
       "      <td>April</td>\n",
       "      <td>129</td>\n",
       "      <td>1</td>\n",
       "    </tr>\n",
       "    <tr>\n",
       "      <th>4</th>\n",
       "      <td>1949</td>\n",
       "      <td>May</td>\n",
       "      <td>121</td>\n",
       "      <td>1</td>\n",
       "    </tr>\n",
       "    <tr>\n",
       "      <th>...</th>\n",
       "      <td>...</td>\n",
       "      <td>...</td>\n",
       "      <td>...</td>\n",
       "      <td>...</td>\n",
       "    </tr>\n",
       "    <tr>\n",
       "      <th>139</th>\n",
       "      <td>1960</td>\n",
       "      <td>August</td>\n",
       "      <td>606</td>\n",
       "      <td>0</td>\n",
       "    </tr>\n",
       "    <tr>\n",
       "      <th>140</th>\n",
       "      <td>1960</td>\n",
       "      <td>September</td>\n",
       "      <td>508</td>\n",
       "      <td>0</td>\n",
       "    </tr>\n",
       "    <tr>\n",
       "      <th>141</th>\n",
       "      <td>1960</td>\n",
       "      <td>October</td>\n",
       "      <td>461</td>\n",
       "      <td>0</td>\n",
       "    </tr>\n",
       "    <tr>\n",
       "      <th>142</th>\n",
       "      <td>1960</td>\n",
       "      <td>November</td>\n",
       "      <td>390</td>\n",
       "      <td>0</td>\n",
       "    </tr>\n",
       "    <tr>\n",
       "      <th>143</th>\n",
       "      <td>1960</td>\n",
       "      <td>December</td>\n",
       "      <td>432</td>\n",
       "      <td>0</td>\n",
       "    </tr>\n",
       "  </tbody>\n",
       "</table>\n",
       "<p>144 rows × 4 columns</p>\n",
       "</div>"
      ],
      "text/plain": [
       "     year      month  passengers  underperforming\n",
       "0    1949    January         112                1\n",
       "1    1949   February         118                1\n",
       "2    1949      March         132                1\n",
       "3    1949      April         129                1\n",
       "4    1949        May         121                1\n",
       "..    ...        ...         ...              ...\n",
       "139  1960     August         606                0\n",
       "140  1960  September         508                0\n",
       "141  1960    October         461                0\n",
       "142  1960   November         390                0\n",
       "143  1960   December         432                0\n",
       "\n",
       "[144 rows x 4 columns]"
      ]
     },
     "execution_count": 39,
     "metadata": {},
     "output_type": "execute_result"
    }
   ],
   "source": [
    "df"
   ]
  },
  {
   "cell_type": "markdown",
   "id": "73f13665",
   "metadata": {},
   "source": [
    "pregunta 6: Por último, haz un loop que clasifique los meses donde la cantidad de pasajeros se escapa de la tendencia. Para ello:\n"
   ]
  },
  {
   "cell_type": "markdown",
   "id": "e80642d8",
   "metadata": {},
   "source": [
    "● Genera dos objetos que guarden la media general y la desviación estándar general de passengers.\n",
    "\n",
    "● Genera una nueva columna en la tabla de datos que se llame outlier y asígnale 0.\n",
    "\n",
    "● Ejecuta un loop que recorra cada observación de passengers, donde si la observación se escapa de la tendencia sea 1, de lo contrario 0.\n",
    "\n",
    "● Para clasificar los casos que se escapen la tendencia, la observación debe satisfacer una de las siguientes condiciones:\n",
    "\n",
    "○ La observación debe ser menor a la media menos la desviación estándar, o\n",
    "\n",
    "○ La observación debe ser mayor a la media más la desviación estándar.\n",
    "\n",
    "○ ¿Cuántas observaciones se pueden clasificar como casos extremos?"
   ]
  },
  {
   "cell_type": "code",
   "execution_count": 40,
   "id": "5e2ab444",
   "metadata": {},
   "outputs": [
    {
     "data": {
      "text/plain": [
       "119.96631694294321"
      ]
     },
     "execution_count": 40,
     "metadata": {},
     "output_type": "execute_result"
    }
   ],
   "source": [
    "mg = df.passengers. mean()\n",
    "sd = df.passengers.std()\n",
    "sd"
   ]
  },
  {
   "cell_type": "code",
   "execution_count": 42,
   "id": "748d622e",
   "metadata": {},
   "outputs": [],
   "source": [
    "df['outlier'] = 0"
   ]
  },
  {
   "cell_type": "code",
   "execution_count": 43,
   "id": "4086b96e",
   "metadata": {},
   "outputs": [
    {
     "data": {
      "text/html": [
       "<div>\n",
       "<style scoped>\n",
       "    .dataframe tbody tr th:only-of-type {\n",
       "        vertical-align: middle;\n",
       "    }\n",
       "\n",
       "    .dataframe tbody tr th {\n",
       "        vertical-align: top;\n",
       "    }\n",
       "\n",
       "    .dataframe thead th {\n",
       "        text-align: right;\n",
       "    }\n",
       "</style>\n",
       "<table border=\"1\" class=\"dataframe\">\n",
       "  <thead>\n",
       "    <tr style=\"text-align: right;\">\n",
       "      <th></th>\n",
       "      <th>year</th>\n",
       "      <th>month</th>\n",
       "      <th>passengers</th>\n",
       "      <th>underperforming</th>\n",
       "      <th>outlier</th>\n",
       "    </tr>\n",
       "  </thead>\n",
       "  <tbody>\n",
       "    <tr>\n",
       "      <th>0</th>\n",
       "      <td>1949</td>\n",
       "      <td>January</td>\n",
       "      <td>112</td>\n",
       "      <td>1</td>\n",
       "      <td>1</td>\n",
       "    </tr>\n",
       "    <tr>\n",
       "      <th>1</th>\n",
       "      <td>1949</td>\n",
       "      <td>February</td>\n",
       "      <td>118</td>\n",
       "      <td>1</td>\n",
       "      <td>1</td>\n",
       "    </tr>\n",
       "    <tr>\n",
       "      <th>2</th>\n",
       "      <td>1949</td>\n",
       "      <td>March</td>\n",
       "      <td>132</td>\n",
       "      <td>1</td>\n",
       "      <td>1</td>\n",
       "    </tr>\n",
       "    <tr>\n",
       "      <th>3</th>\n",
       "      <td>1949</td>\n",
       "      <td>April</td>\n",
       "      <td>129</td>\n",
       "      <td>1</td>\n",
       "      <td>1</td>\n",
       "    </tr>\n",
       "    <tr>\n",
       "      <th>4</th>\n",
       "      <td>1949</td>\n",
       "      <td>May</td>\n",
       "      <td>121</td>\n",
       "      <td>1</td>\n",
       "      <td>1</td>\n",
       "    </tr>\n",
       "    <tr>\n",
       "      <th>...</th>\n",
       "      <td>...</td>\n",
       "      <td>...</td>\n",
       "      <td>...</td>\n",
       "      <td>...</td>\n",
       "      <td>...</td>\n",
       "    </tr>\n",
       "    <tr>\n",
       "      <th>139</th>\n",
       "      <td>1960</td>\n",
       "      <td>August</td>\n",
       "      <td>606</td>\n",
       "      <td>0</td>\n",
       "      <td>1</td>\n",
       "    </tr>\n",
       "    <tr>\n",
       "      <th>140</th>\n",
       "      <td>1960</td>\n",
       "      <td>September</td>\n",
       "      <td>508</td>\n",
       "      <td>0</td>\n",
       "      <td>1</td>\n",
       "    </tr>\n",
       "    <tr>\n",
       "      <th>141</th>\n",
       "      <td>1960</td>\n",
       "      <td>October</td>\n",
       "      <td>461</td>\n",
       "      <td>0</td>\n",
       "      <td>1</td>\n",
       "    </tr>\n",
       "    <tr>\n",
       "      <th>142</th>\n",
       "      <td>1960</td>\n",
       "      <td>November</td>\n",
       "      <td>390</td>\n",
       "      <td>0</td>\n",
       "      <td>0</td>\n",
       "    </tr>\n",
       "    <tr>\n",
       "      <th>143</th>\n",
       "      <td>1960</td>\n",
       "      <td>December</td>\n",
       "      <td>432</td>\n",
       "      <td>0</td>\n",
       "      <td>1</td>\n",
       "    </tr>\n",
       "  </tbody>\n",
       "</table>\n",
       "<p>144 rows × 5 columns</p>\n",
       "</div>"
      ],
      "text/plain": [
       "     year      month  passengers  underperforming  outlier\n",
       "0    1949    January         112                1        1\n",
       "1    1949   February         118                1        1\n",
       "2    1949      March         132                1        1\n",
       "3    1949      April         129                1        1\n",
       "4    1949        May         121                1        1\n",
       "..    ...        ...         ...              ...      ...\n",
       "139  1960     August         606                0        1\n",
       "140  1960  September         508                0        1\n",
       "141  1960    October         461                0        1\n",
       "142  1960   November         390                0        0\n",
       "143  1960   December         432                0        1\n",
       "\n",
       "[144 rows x 5 columns]"
      ]
     },
     "execution_count": 43,
     "metadata": {},
     "output_type": "execute_result"
    }
   ],
   "source": [
    "for i in df.index:\n",
    "    if df.at[i, 'passengers'] < (mg - sd) or df.at[i, 'passengers'] > (mg + sd):\n",
    "        df.at[i, 'outlier'] = 1\n",
    "    else:\n",
    "        df.at[i, 'outlier'] = 0\n",
    "\n",
    "df"
   ]
  },
  {
   "cell_type": "code",
   "execution_count": null,
   "id": "006a0e4f",
   "metadata": {},
   "outputs": [],
   "source": []
  }
 ],
 "metadata": {
  "kernelspec": {
   "display_name": "Python 3 (ipykernel)",
   "language": "python",
   "name": "python3"
  },
  "language_info": {
   "codemirror_mode": {
    "name": "ipython",
    "version": 3
   },
   "file_extension": ".py",
   "mimetype": "text/x-python",
   "name": "python",
   "nbconvert_exporter": "python",
   "pygments_lexer": "ipython3",
   "version": "3.9.13"
  }
 },
 "nbformat": 4,
 "nbformat_minor": 5
}
